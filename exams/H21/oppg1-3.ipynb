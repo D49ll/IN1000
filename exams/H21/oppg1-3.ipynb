{
 "cells": [
  {
   "cell_type": "code",
   "execution_count": 4,
   "metadata": {},
   "outputs": [
    {
     "name": "stdout",
     "output_type": "stream",
     "text": [
      "kansje\n"
     ]
    }
   ],
   "source": [
    "y = 13\n",
    "assert type(y) == int\n",
    "z = 12\n",
    "\n",
    "x = (y == z)\n",
    "\n",
    "if x:\n",
    "    print('ja')\n",
    "elif y>11 and y < 14:\n",
    "    print('kansje')\n",
    "else:\n",
    "    print('nei')"
   ]
  },
  {
   "cell_type": "code",
   "execution_count": 7,
   "metadata": {},
   "outputs": [
    {
     "name": "stdout",
     "output_type": "stream",
     "text": [
      "11\n"
     ]
    }
   ],
   "source": [
    "liste = [3,4,5,6]\n",
    "a = 4\n",
    "for x in liste:\n",
    "    if x <= 4:\n",
    "        a += x\n",
    "print(a)"
   ]
  },
  {
   "cell_type": "code",
   "execution_count": 8,
   "metadata": {},
   "outputs": [
    {
     "name": "stdout",
     "output_type": "stream",
     "text": [
      "6\n"
     ]
    }
   ],
   "source": [
    "a = 1\n",
    "b = 2\n",
    "c = 3\n",
    "lA = [a,b,c]\n",
    "lB = [1,2,3]\n",
    "lC = lA\n",
    "lA.append(5)\n",
    "lC.append(6)\n",
    "print(lC[4])"
   ]
  },
  {
   "cell_type": "code",
   "execution_count": 9,
   "metadata": {},
   "outputs": [
    {
     "name": "stdout",
     "output_type": "stream",
     "text": [
      "abcd\n"
     ]
    }
   ],
   "source": [
    "s = \"\"\n",
    "if True or not False:\n",
    "    s += 'a'\n",
    "    if True and not False:\n",
    "        s += 'b'\n",
    "    if False or not False:\n",
    "        s += 'c'\n",
    "        s += 'd'\n",
    "\n",
    "elif True:\n",
    "    s += 'e'\n",
    "else:\n",
    "    s += 'f'\n",
    "a = False\n",
    "b = not True\n",
    "\n",
    "if a or b:\n",
    "    if a:\n",
    "        s += 'g'\n",
    "\n",
    "print(s)"
   ]
  },
  {
   "cell_type": "code",
   "execution_count": 11,
   "metadata": {},
   "outputs": [
    {
     "name": "stdout",
     "output_type": "stream",
     "text": [
      "b\n",
      "b\n",
      "3\n"
     ]
    }
   ],
   "source": [
    "def funk(ordbok, ord, tall):\n",
    "    ordbok[ord] = tall\n",
    "    return 2*tall\n",
    "\n",
    "bokA = {'a':3,'b':6,'c':8,'d':10}\n",
    "bokB = {'a':3,'b':6,'c':8,'d':10}\n",
    "\n",
    "c = 'b'\n",
    "\n",
    "d = c\n",
    "print(d)\n",
    "x = 2\n",
    "y = funk(bokB,c,3)\n",
    "print(d)\n",
    "print(bokB[d])"
   ]
  },
  {
   "cell_type": "code",
   "execution_count": 12,
   "metadata": {},
   "outputs": [
    {
     "name": "stdout",
     "output_type": "stream",
     "text": [
      "0\n",
      "10\n",
      "3\n"
     ]
    }
   ],
   "source": [
    "#3a\n",
    "# Vaksinert = 0 dager i karantene\n",
    "# Uvaksinert og rødt/oransje land = 10dager karantene\n",
    "# Uvaksinert og grønt land = 3 dager karantene\n",
    "\n",
    "def karantene(vaksinert, farge):\n",
    "    if vaksinert:\n",
    "        return 0\n",
    "    elif farge == 'roed' or farge == 'oransje':\n",
    "        return 10\n",
    "    elif farge == 'groenn':\n",
    "        return 3\n",
    "    else:\n",
    "        print('Ukjent fargekode')\n",
    "\n",
    "print(karantene(True,'roed'))\n",
    "print(karantene(False,'oransje'))\n",
    "print(karantene(False,'groenn'))"
   ]
  },
  {
   "cell_type": "code",
   "execution_count": 16,
   "metadata": {},
   "outputs": [
    {
     "name": "stdout",
     "output_type": "stream",
     "text": [
      "2\n",
      "0\n",
      "1\n",
      "0\n"
     ]
    }
   ],
   "source": [
    "#3b\n",
    "#Dersom fag = bsc and fag = msc -> return 2\n",
    "#Dersom fag = bsc eller msc -> return 1\n",
    "#Dersom fag != bsc and != msc - > 0\n",
    "\n",
    "def tell_grader(fag,bsc,msc):\n",
    "    if fag == bsc and fag == msc:\n",
    "        return 2\n",
    "    elif fag == bsc or fag == msc:\n",
    "        return 1\n",
    "    else:\n",
    "        return 0\n",
    "\n",
    "\n",
    "print(tell_grader('info','info','info'))\n",
    "print(tell_grader('hist','info','info'))\n",
    "print(tell_grader('info','info','hist'))\n",
    "print(tell_grader('info','fys','hist'))\n",
    "\n"
   ]
  },
  {
   "cell_type": "code",
   "execution_count": 23,
   "metadata": {},
   "outputs": [
    {
     "name": "stdout",
     "output_type": "stream",
     "text": [
      "h dt fnt\n"
     ]
    }
   ],
   "source": [
    "#3c\n",
    "\n",
    "# setning - str\n",
    "# vokaler - list, hvert element er en str av lengde 1\n",
    "\n",
    "#alle vokaler fra vokal_liste er fjernet fra teksten\n",
    "\n",
    "def fjern_vokaler(setning,vokalListe):\n",
    "    for vokal in vokalListe:\n",
    "        if vokal in setning:\n",
    "            setning = setning.replace(vokal,\"\")\n",
    "\n",
    "    return setning\n",
    "\n",
    "print(fjern_vokaler('ha det fint',['a','e','i','o','u']))"
   ]
  },
  {
   "cell_type": "code",
   "execution_count": 24,
   "metadata": {},
   "outputs": [
    {
     "name": "stdout",
     "output_type": "stream",
     "text": [
      "1300\n"
     ]
    }
   ],
   "source": [
    "#varenavn - liste\n",
    "#ordbok[varenavn] = førpris\n",
    "#ordbok2[varenavn] = nypris\n",
    "\n",
    "#Rabatt en kune har fått i sum dersom kunden har kjøpt varene i varelisten\n",
    "#én av hvert element i lista\n",
    "\n",
    "#rabatt = førpris - nypris\n",
    "\n",
    "\n",
    "def summer_rabatt(vareliste,forpris,nypris):\n",
    "    sumRabatt = 0\n",
    "    for vare in vareliste:\n",
    "        sumRabatt += forpris[vare]-nypris[vare]\n",
    "\n",
    "    return sumRabatt\n",
    "\n",
    "print(summer_rabatt([\"laptop\", \"ryggsekk\"], {\"laptop\":5000, \"ryggsekk\":900}, {\"laptop\":4000, \"ryggsekk\":600}))"
   ]
  },
  {
   "cell_type": "code",
   "execution_count": 136,
   "metadata": {},
   "outputs": [
    {
     "name": "stdout",
     "output_type": "stream",
     "text": [
      "True\n",
      "False\n"
     ]
    }
   ],
   "source": [
    "#nøstet liste: Reise\n",
    "    #hvert element er en liste med to elementer\n",
    "        #reiseopprinnelse og reisemål\n",
    "\n",
    "#Returner true dersom reise er en gylig reiserute\n",
    "\n",
    "#Gyldig reiseryte: Hvert reisemål er lik reiseopprinnelsen til\n",
    "#                  den etterfølgende indre listen\n",
    "\n",
    "\n",
    "\n",
    "def sjekk_reise(A):\n",
    "    n = len(A)-1\n",
    "    i = 0\n",
    "    while i < n:\n",
    "        if A[i][1] != A[i+1][0]:\n",
    "            return False\n",
    "        i+=1\n",
    "    return True\n",
    "\n",
    "\n",
    "        \n",
    "     \n",
    "\n",
    "print(sjekk_reise([[\"Spania\", \"Frankrike\"], [\"Frankrike\", \"Norge\"]]))\n",
    "print(sjekk_reise([[\"Russland\", \"Tyskland\"],  [\"Tyskland\",\"Sverige\"], [\"Norge\", \"Belgia\"]]))"
   ]
  }
 ],
 "metadata": {
  "interpreter": {
   "hash": "916dbcbb3f70747c44a77c7bcd40155683ae19c65e1c03b4aa3499c5328201f1"
  },
  "kernelspec": {
   "display_name": "Python 3.8.10 64-bit",
   "language": "python",
   "name": "python3"
  },
  "language_info": {
   "codemirror_mode": {
    "name": "ipython",
    "version": 3
   },
   "file_extension": ".py",
   "mimetype": "text/x-python",
   "name": "python",
   "nbconvert_exporter": "python",
   "pygments_lexer": "ipython3",
   "version": "3.8.10"
  },
  "orig_nbformat": 4
 },
 "nbformat": 4,
 "nbformat_minor": 2
}
