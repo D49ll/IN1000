{
 "cells": [
  {
   "cell_type": "code",
   "execution_count": 1,
   "metadata": {},
   "outputs": [
    {
     "name": "stdout",
     "output_type": "stream",
     "text": [
      "11\n"
     ]
    }
   ],
   "source": [
    "#Oppgave1a\n",
    "tall = 1+2+3\n",
    "tall2 = 2\n",
    "\n",
    "print(tall*tall2-1)"
   ]
  },
  {
   "cell_type": "code",
   "execution_count": 2,
   "metadata": {},
   "outputs": [
    {
     "name": "stdout",
     "output_type": "stream",
     "text": [
      "ba\n"
     ]
    }
   ],
   "source": [
    "#Oppgave1b\n",
    "tall = 4*2\n",
    "t1 = 'a'\n",
    "if tall>9:\n",
    "    t1 = t1+'a'\n",
    "\n",
    "print(\"b\"+t1)"
   ]
  },
  {
   "cell_type": "code",
   "execution_count": 3,
   "metadata": {},
   "outputs": [
    {
     "name": "stdout",
     "output_type": "stream",
     "text": [
      "ja\n"
     ]
    }
   ],
   "source": [
    "#Oppgave1c\n",
    "tall1 = 2*3\n",
    "tall2 = 2**3\n",
    "\n",
    "if tall1>7 or tall2>7:\n",
    "    print('ja')\n",
    "else:\n",
    "    print('nei')"
   ]
  },
  {
   "cell_type": "code",
   "execution_count": 15,
   "metadata": {},
   "outputs": [],
   "source": [
    "#Oppgave1d\n",
    "\n",
    "liste = [2,1,3]\n",
    "tall = 0\n",
    "for i in liste:\n",
    "    tall +=1\n",
    "    tall=tall*i\n",
    "\n",
    "assert len(liste) == 3\n",
    "assert tall == 12"
   ]
  },
  {
   "cell_type": "code",
   "execution_count": 11,
   "metadata": {},
   "outputs": [
    {
     "name": "stdout",
     "output_type": "stream",
     "text": [
      "30\n"
     ]
    }
   ],
   "source": [
    "#Oppgave1e\n",
    "\n",
    "a = 3\n",
    "for i in range(0,2):\n",
    "    a = a*2\n",
    "    for b in [1,2,3]:\n",
    "        a += b\n",
    "\n",
    "print(a)"
   ]
  },
  {
   "cell_type": "code",
   "execution_count": 12,
   "metadata": {},
   "outputs": [
    {
     "name": "stdout",
     "output_type": "stream",
     "text": [
      "2\n"
     ]
    }
   ],
   "source": [
    "#Oppgave1f\n",
    "\n",
    "tall = 0\n",
    "operasjoner = 'idd.d..did'\n",
    "\n",
    "for operasjon in operasjoner:\n",
    "    if operasjon == 'd':\n",
    "        tall = tall*2\n",
    "    elif operasjon == 'i':\n",
    "        tall = tall + 1\n",
    "    else:\n",
    "        tall = 0\n",
    "\n",
    "print(tall)"
   ]
  },
  {
   "cell_type": "code",
   "execution_count": 13,
   "metadata": {},
   "outputs": [
    {
     "name": "stdout",
     "output_type": "stream",
     "text": [
      "[3, 4, 5, 8]\n"
     ]
    }
   ],
   "source": [
    "#Oppgave 1g\n",
    "bok = {'a':[3,4,5],'b':[6,7]}\n",
    "bok['a'].append(8)\n",
    "print(bok['a'])"
   ]
  },
  {
   "cell_type": "code",
   "execution_count": 14,
   "metadata": {},
   "outputs": [
    {
     "name": "stdout",
     "output_type": "stream",
     "text": [
      "AL Alaska\n"
     ]
    }
   ],
   "source": [
    "stater = {'AL':'Alabama','AK':'Alaska'}\n",
    "statkoder = ['AL','AK']\n",
    "\n",
    "maks = 0\n",
    "ny = \"\"\n",
    "\n",
    "for k in statkoder:\n",
    "    navn = stater[k].split()\n",
    "    if len(navn) > maks:\n",
    "        maks = len(navn)\n",
    "        ny = k\n",
    "\n",
    "print(ny,stater[k])"
   ]
  },
  {
   "cell_type": "code",
   "execution_count": null,
   "metadata": {},
   "outputs": [],
   "source": []
  }
 ],
 "metadata": {
  "interpreter": {
   "hash": "916dbcbb3f70747c44a77c7bcd40155683ae19c65e1c03b4aa3499c5328201f1"
  },
  "kernelspec": {
   "display_name": "Python 3.8.10 64-bit",
   "language": "python",
   "name": "python3"
  },
  "language_info": {
   "codemirror_mode": {
    "name": "ipython",
    "version": 3
   },
   "file_extension": ".py",
   "mimetype": "text/x-python",
   "name": "python",
   "nbconvert_exporter": "python",
   "pygments_lexer": "ipython3",
   "version": "3.8.10"
  },
  "orig_nbformat": 4
 },
 "nbformat": 4,
 "nbformat_minor": 2
}
