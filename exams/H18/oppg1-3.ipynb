{
 "cells": [
  {
   "cell_type": "code",
   "execution_count": 1,
   "metadata": {},
   "outputs": [
    {
     "name": "stdout",
     "output_type": "stream",
     "text": [
      "3\n"
     ]
    }
   ],
   "source": [
    "#Op1\n",
    "tall = (3+1)*2\n",
    "tall = tall - 5\n",
    "print(tall)"
   ]
  },
  {
   "cell_type": "code",
   "execution_count": null,
   "metadata": {},
   "outputs": [],
   "source": [
    "'ad'"
   ]
  },
  {
   "cell_type": "code",
   "execution_count": 3,
   "metadata": {},
   "outputs": [
    {
     "name": "stdout",
     "output_type": "stream",
     "text": [
      "17\n"
     ]
    }
   ],
   "source": [
    "#Op1c\n",
    "a = 0\n",
    "for b in [2,4,1]:\n",
    "    a = 2*a + b\n",
    "\n",
    "print(a)"
   ]
  },
  {
   "cell_type": "code",
   "execution_count": 4,
   "metadata": {},
   "outputs": [
    {
     "name": "stdout",
     "output_type": "stream",
     "text": [
      "9\n"
     ]
    }
   ],
   "source": [
    "#Op1d\n",
    "tallene =[]\n",
    "a = 0\n",
    "b = 1\n",
    "while a < 4:\n",
    "    tallene.append(b)\n",
    "    b=b*2\n",
    "    a=a+1\n",
    "\n",
    "print(tallene[0]+tallene[3])"
   ]
  },
  {
   "cell_type": "code",
   "execution_count": 5,
   "metadata": {},
   "outputs": [
    {
     "name": "stdout",
     "output_type": "stream",
     "text": [
      "16\n"
     ]
    }
   ],
   "source": [
    "#Op1e\n",
    "\n",
    "def kalk(tall):\n",
    "    tall = tall + 1\n",
    "    return tall*2\n",
    "\n",
    "print(kalk(2)+kalk(4))"
   ]
  },
  {
   "cell_type": "code",
   "execution_count": 6,
   "metadata": {},
   "outputs": [
    {
     "name": "stdout",
     "output_type": "stream",
     "text": [
      "32\n"
     ]
    }
   ],
   "source": [
    "#Op1f\n",
    "class Tall:\n",
    "    def __init__(self,a):\n",
    "        self._a = a\n",
    "    def m1(self,c):\n",
    "        self._a = self._a + c\n",
    "    \n",
    "    def m2(self):\n",
    "        self._a = self._a *2\n",
    "\n",
    "    def m3(self):\n",
    "        return self._a + 10\n",
    "\n",
    "\n",
    "t1 = Tall(5)\n",
    "t2 = Tall(2)\n",
    "\n",
    "t1.m2()\n",
    "t2.m1(t1.m3())\n",
    "print(t2.m3())"
   ]
  },
  {
   "cell_type": "code",
   "execution_count": null,
   "metadata": {},
   "outputs": [],
   "source": [
    "#Oppg2a\n",
    "49"
   ]
  },
  {
   "cell_type": "code",
   "execution_count": null,
   "metadata": {},
   "outputs": [],
   "source": [
    "#Oppg2b\n",
    "60"
   ]
  },
  {
   "cell_type": "code",
   "execution_count": null,
   "metadata": {},
   "outputs": [],
   "source": [
    "#oppg2c\n",
    "49"
   ]
  },
  {
   "cell_type": "code",
   "execution_count": null,
   "metadata": {},
   "outputs": [],
   "source": [
    "#Oppg2d\n",
    "49"
   ]
  },
  {
   "cell_type": "code",
   "execution_count": null,
   "metadata": {},
   "outputs": [],
   "source": [
    "#Oppgave3a\n",
    "\n",
    "def vinnerlag(hjemmelag, bortelag, hjemmemaal, bortemaal):\n",
    "    if hjemmemaal > bortemaal:\n",
    "        return hjemmelag\n",
    "    elif hjemmemaal < bortemaal:\n",
    "        return bortelag\n",
    "    else:\n",
    "        return 'uavgjort'\n",
    "\n"
   ]
  },
  {
   "cell_type": "code",
   "execution_count": 10,
   "metadata": {},
   "outputs": [
    {
     "name": "stdout",
     "output_type": "stream",
     "text": [
      "['brann', 'molde']\n"
     ]
    }
   ],
   "source": [
    "#Opg3b\n",
    "\n",
    "def forkort_lagliste(lagliste):\n",
    "    forkortet = set(lagliste)\n",
    "    return sorted(list(forkortet))\n",
    "\n",
    "print(forkort_lagliste(['brann','molde','brann']))"
   ]
  },
  {
   "cell_type": "code",
   "execution_count": 13,
   "metadata": {},
   "outputs": [
    {
     "name": "stdout",
     "output_type": "stream",
     "text": [
      "{'brann': 0, 'Molde': 0}\n"
     ]
    }
   ],
   "source": [
    "#Opg3c\n",
    "def legg_inn_null_maal(lagliste):\n",
    "    ordbok = dict()\n",
    "    for lagnavn in lagliste:\n",
    "        ordbok[lagnavn] = 0\n",
    "\n",
    "    return ordbok\n",
    "\n",
    "print(legg_inn_null_maal(['brann','Molde']))"
   ]
  },
  {
   "cell_type": "code",
   "execution_count": 15,
   "metadata": {},
   "outputs": [
    {
     "name": "stdout",
     "output_type": "stream",
     "text": [
      "['brann', 'molde', 'sarpsborg']\n"
     ]
    }
   ],
   "source": [
    "#Opg3d\n",
    "\n",
    "def ekstraher_lagliste(fn):\n",
    "    lagliste = set()\n",
    "\n",
    "    for linje in open(fn,'r'):\n",
    "        lag1, lag2, *mal = linje.split()\n",
    "        lagliste.add(lag1)\n",
    "        lagliste.add(lag2)\n",
    "\n",
    "    return sorted(list(lagliste))\n",
    "\n",
    "print(ekstraher_lagliste('oppg3d.txt'))\n",
    "    "
   ]
  },
  {
   "cell_type": "code",
   "execution_count": 16,
   "metadata": {},
   "outputs": [
    {
     "name": "stdout",
     "output_type": "stream",
     "text": [
      "{'brann': 3, 'molde': 1, 'sarpsborg': 1}\n"
     ]
    }
   ],
   "source": [
    "def regn_poengsum(fn):\n",
    "    lagliste = ekstraher_lagliste(fn)\n",
    "    lagordbok = legg_inn_null_maal(lagliste)\n",
    "\n",
    "    for linje in open(fn,'r'):\n",
    "        lag1, lag2, *mal = linje.split()\n",
    "        \n",
    "        if mal[0] > mal[1]:\n",
    "            lagordbok[lag1] += 3\n",
    "        elif mal[0] < mal[1]:\n",
    "            lagordbok[lag2] += 3\n",
    "        else:\n",
    "            lagordbok[lag1] += 1\n",
    "            lagordbok[lag2] += 1\n",
    "    return lagordbok\n",
    "\n",
    "print(regn_poengsum('oppg3d.txt'))"
   ]
  },
  {
   "cell_type": "code",
   "execution_count": 21,
   "metadata": {},
   "outputs": [
    {
     "name": "stdout",
     "output_type": "stream",
     "text": [
      "brann\n"
     ]
    }
   ],
   "source": [
    "#Oppg3f\n",
    "\n",
    "def gull(lagoversikt):\n",
    "    max = 0\n",
    "    gullet = None\n",
    "    for k,v in lagoversikt.items():\n",
    "        if max < v:\n",
    "            max = v\n",
    "            gullet = k\n",
    "    return gullet\n",
    "\n",
    "print(gull({'brann':2,'molde':1}))"
   ]
  },
  {
   "cell_type": "code",
   "execution_count": null,
   "metadata": {},
   "outputs": [],
   "source": [
    "#Oppg3g\n",
    "\n",
    "def finn_gull(fn):\n",
    "    lagoversikt = regn_poengsum(fn)\n",
    "    print(gull(lagoversikt))"
   ]
  }
 ],
 "metadata": {
  "interpreter": {
   "hash": "916dbcbb3f70747c44a77c7bcd40155683ae19c65e1c03b4aa3499c5328201f1"
  },
  "kernelspec": {
   "display_name": "Python 3.8.10 64-bit",
   "language": "python",
   "name": "python3"
  },
  "language_info": {
   "codemirror_mode": {
    "name": "ipython",
    "version": 3
   },
   "file_extension": ".py",
   "mimetype": "text/x-python",
   "name": "python",
   "nbconvert_exporter": "python",
   "pygments_lexer": "ipython3",
   "version": "3.8.10"
  },
  "orig_nbformat": 4
 },
 "nbformat": 4,
 "nbformat_minor": 2
}
