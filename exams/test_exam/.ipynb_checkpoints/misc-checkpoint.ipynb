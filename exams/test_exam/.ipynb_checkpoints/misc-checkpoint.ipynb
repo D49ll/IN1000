{
 "cells": [
  {
   "cell_type": "code",
   "execution_count": 3,
   "metadata": {},
   "outputs": [
    {
     "data": {
      "text/plain": [
       "7"
      ]
     },
     "execution_count": 3,
     "metadata": {},
     "output_type": "execute_result"
    }
   ],
   "source": [
    "liste = [1,1,-1,2,-2,3,-1,3,5,-2,3,1,-7,8,-9,3,2,-3,6,5,4,-2,3,2]\n",
    "total = 0\n",
    "i = 0\n",
    "\n",
    "while liste[i]>0:\n",
    "    total += liste[i]\n",
    "    i+=1\n",
    "\n",
    "i = len(liste)-1\n",
    "while liste[i]>0:\n",
    "    total += liste[i]\n",
    "    i-=1\n",
    "\n",
    "i = 0\n",
    "\n",
    "while liste[i] > len(liste):\n",
    "    total += liste[i]\n",
    "    i+=1\n",
    "\n",
    "total"
   ]
  },
  {
   "cell_type": "code",
   "execution_count": null,
   "metadata": {},
   "outputs": [],
   "source": [
    "def fridager(julaften):\n",
    "\n",
    "    if julaften == \"fredag\" :\n",
    "        return 2\n",
    "    elif julaften == \"lordag\" or julaften == \"torsdag\":\n",
    "        return 3\n",
    "    else:\n",
    "        return 4\n"
   ]
  },
  {
   "cell_type": "code",
   "execution_count": 5,
   "metadata": {},
   "outputs": [
    {
     "name": "stdout",
     "output_type": "stream",
     "text": [
      "7\n"
     ]
    }
   ],
   "source": [
    "def intTilString(tall, antallSiffer):\n",
    "    tall = str(tall)\n",
    "\n",
    "    i = antallSiffer - len(tall)\n",
    "\n",
    "    while i > 0:\n",
    "        tall = '0'+tall\n",
    "        i -= 1\n",
    "\n",
    "    return tall\n",
    "    \n",
    "    \n",
    "    \n",
    "print(intTilString(7,0))"
   ]
  },
  {
   "cell_type": "code",
   "execution_count": 2,
   "metadata": {},
   "outputs": [
    {
     "name": "stdout",
     "output_type": "stream",
     "text": [
      "Navn: pål\n",
      "Navn: gunnar\n",
      "Navn: dani\n",
      "Navn: daniel\n"
     ]
    },
    {
     "data": {
      "text/plain": [
       "'daniel'"
      ]
     },
     "execution_count": 2,
     "metadata": {},
     "output_type": "execute_result"
    }
   ],
   "source": [
    "def beOmNavn(navneliste):\n",
    "\n",
    "    navn = input(\"Navn: \")\n",
    "    while navn not in navneliste:\n",
    "        navn = input(\"Navn: \")\n",
    "    \n",
    "    return navn\n",
    "\n",
    "\n",
    "navneliste = ['daniel','per','petter']\n",
    "\n",
    "beOmNavn(navneliste)"
   ]
  },
  {
   "cell_type": "code",
   "execution_count": 6,
   "metadata": {},
   "outputs": [
    {
     "data": {
      "text/plain": [
       "3"
      ]
     },
     "execution_count": 6,
     "metadata": {},
     "output_type": "execute_result"
    }
   ],
   "source": [
    "def fridager(julaften):\n",
    "\n",
    "    if julaften == \"fredag\" :\n",
    "        return 2\n",
    "    elif julaften == \"lordag\" or julaften == \"torsdag\":\n",
    "        return 3\n",
    "    else:\n",
    "        return 4\n",
    "\n",
    "\n",
    "fridager('torsdag')"
   ]
  },
  {
   "cell_type": "code",
   "execution_count": 14,
   "metadata": {},
   "outputs": [
    {
     "data": {
      "text/plain": [
       "'Hei.'"
      ]
     },
     "execution_count": 14,
     "metadata": {},
     "output_type": "execute_result"
    }
   ],
   "source": [
    "def dempDeg(tekst):\n",
    "    ny = tekst\n",
    "    fant = False\n",
    "    \n",
    "    while ny[-1] == '!': #[-1] indekserer siste element i arrayet\n",
    "        ny = ny[:-1] #Fra 0-indeks til nest siste indeks (siste index er eksludert)\n",
    "        fant = True\n",
    "        \n",
    "    if fant:\n",
    "        ny = ny+'.'\n",
    "    \n",
    "    return ny\n",
    "\n",
    "dempDeg('Hei!!')\n",
    "\n"
   ]
  }
 ],
 "metadata": {
  "interpreter": {
   "hash": "916dbcbb3f70747c44a77c7bcd40155683ae19c65e1c03b4aa3499c5328201f1"
  },
  "kernelspec": {
   "display_name": "Python 3 (ipykernel)",
   "language": "python",
   "name": "python3"
  },
  "language_info": {
   "codemirror_mode": {
    "name": "ipython",
    "version": 3
   },
   "file_extension": ".py",
   "mimetype": "text/x-python",
   "name": "python",
   "nbconvert_exporter": "python",
   "pygments_lexer": "ipython3",
   "version": "3.8.10"
  }
 },
 "nbformat": 4,
 "nbformat_minor": 2
}
