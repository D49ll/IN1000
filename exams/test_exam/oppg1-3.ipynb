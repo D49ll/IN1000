{
 "cells": [
  {
   "cell_type": "code",
   "execution_count": null,
   "metadata": {},
   "outputs": [],
   "source": [
    "#1a\n",
    "7\n",
    "#1b\n",
    "4>3\n"
   ]
  },
  {
   "cell_type": "code",
   "execution_count": 2,
   "metadata": {},
   "outputs": [
    {
     "name": "stdout",
     "output_type": "stream",
     "text": [
      "33\n"
     ]
    }
   ],
   "source": [
    "#1c\n",
    "a = 1\n",
    "while a < 10:\n",
    "    a = 3*a\n",
    "    for b in [3,2,1]:\n",
    "        a += b\n",
    "\n",
    "if a < 25:\n",
    "    a = a*2\n",
    "    while a < 100:\n",
    "        a +=1\n",
    "        \n",
    "while a < 29:\n",
    "    a = a +3\n",
    "\n",
    "print(a)"
   ]
  },
  {
   "cell_type": "code",
   "execution_count": 5,
   "metadata": {},
   "outputs": [
    {
     "data": {
      "text/plain": [
       "10"
      ]
     },
     "execution_count": 5,
     "metadata": {},
     "output_type": "execute_result"
    }
   ],
   "source": [
    "#1d\n",
    "tall = 5\n",
    "while tall < 10:\n",
    "    tall = tall -2\n",
    "    tall = tall *2\n",
    "\n",
    "tall = tall - 2\n",
    "tall"
   ]
  },
  {
   "cell_type": "code",
   "execution_count": 7,
   "metadata": {},
   "outputs": [
    {
     "name": "stdout",
     "output_type": "stream",
     "text": [
      "ja\n"
     ]
    }
   ],
   "source": [
    "#1e\n",
    "liste = [-1,2,322,95]\n",
    "\n",
    "s = 0\n",
    "\n",
    "for tall in liste:\n",
    "    s = s+liste[1]\n",
    "if s == 8:\n",
    "    print('ja')\n",
    "else:\n",
    "    print('nei')"
   ]
  },
  {
   "cell_type": "code",
   "execution_count": null,
   "metadata": {},
   "outputs": [],
   "source": [
    "#1f\n",
    "class Info:\n",
    "    def __init__(self, fornavn, etternavn):\n",
    "        self._navn = fornavn +\" \"+etternavn\n",
    "\n",
    "helt = Info('Espen','Askeladden')"
   ]
  },
  {
   "cell_type": "code",
   "execution_count": null,
   "metadata": {},
   "outputs": [],
   "source": [
    "#1g\n",
    "4"
   ]
  },
  {
   "cell_type": "code",
   "execution_count": 8,
   "metadata": {},
   "outputs": [
    {
     "name": "stdout",
     "output_type": "stream",
     "text": [
      "7\n"
     ]
    }
   ],
   "source": [
    "#1h\n",
    "liste = [1, 1, -1, 2, -2, 3, -1, 3, 5, -2, 3, 1, -7, 8, -9, 3, 2, -3, 6, 5, 4, -2, 3, 2]\n",
    "\n",
    "total = 0\n",
    "i = 0\n",
    "\n",
    "while liste[i]>0:\n",
    "    total += liste[i]\n",
    "    i+=1\n",
    "\n",
    "i = len(liste) - 1\n",
    "\n",
    "while liste[i]>0:\n",
    "    total += liste[i]\n",
    "    i -= 1\n",
    "\n",
    "i = 0\n",
    "\n",
    "while liste[i]>len(liste):\n",
    "    total += liste[i]\n",
    "    i += 1\n",
    "\n",
    "print(total)"
   ]
  },
  {
   "cell_type": "code",
   "execution_count": 9,
   "metadata": {},
   "outputs": [
    {
     "name": "stdout",
     "output_type": "stream",
     "text": [
      "9,4,4\n"
     ]
    }
   ],
   "source": [
    "#1i\n",
    "\n",
    "def f1(a):\n",
    "    return a+1\n",
    "\n",
    "def f2(b):\n",
    "    return 2*b\n",
    "\n",
    "def f3(c):\n",
    "    return c+2\n",
    "\n",
    "def f4(a):\n",
    "    return 4\n",
    "\n",
    "def f5(b):\n",
    "    return b-1\n",
    "\n",
    "def f6(c):\n",
    "    return c\n",
    "\n",
    "i = 1\n",
    "k=3\n",
    "a=f1(f2(i+1)+f3(k)-1)\n",
    "b =f4(f5(f6(2) )+a)\n",
    "c=f4( f1(a+b) + f2(f3(f6(1)))+f5(b*a)-f6(b))\n",
    "\n",
    "print(str(a)+','+str(b)+','+str(c))"
   ]
  },
  {
   "cell_type": "code",
   "execution_count": 10,
   "metadata": {},
   "outputs": [
    {
     "name": "stdout",
     "output_type": "stream",
     "text": [
      "100\n"
     ]
    }
   ],
   "source": [
    "#1j\n",
    "print(77+23)"
   ]
  },
  {
   "cell_type": "code",
   "execution_count": 11,
   "metadata": {},
   "outputs": [
    {
     "data": {
      "text/plain": [
       "26"
      ]
     },
     "execution_count": 11,
     "metadata": {},
     "output_type": "execute_result"
    }
   ],
   "source": [
    "#1k\n",
    "tall = 0\n",
    "tall += 1\n",
    "tall *= 2\n",
    "tall += 7\n",
    "tall *= 2\n",
    "tall += 8\n",
    "tall"
   ]
  },
  {
   "cell_type": "code",
   "execution_count": null,
   "metadata": {},
   "outputs": [],
   "source": [
    "#1l\n",
    "class Ukedag:\n",
    "    def __init__(self,dag):\n",
    "        self._dag = dag\n",
    "\n",
    "torsdag = Ukedag(4)\n",
    "imorgen = Ukedag(5)\n",
    "fredag = imorgen\n",
    "helg = Ukedag(6)\n",
    "fredag = None\n",
    "helg = None\n",
    "lordag =helg\n",
    "\n",
    "# 2, torsdag og imorgen."
   ]
  },
  {
   "cell_type": "code",
   "execution_count": null,
   "metadata": {},
   "outputs": [],
   "source": [
    "#1m\n",
    "class Bil:\n",
    "    def __init__(self) -> None:\n",
    "        pass\n",
    "\n",
    "\n",
    "opel = Bil('O')\n",
    "toyota = Bil('T')\n",
    "jaguar = Bil('J')\n",
    "\n",
    "jaguar = opel #Då forsvinner Bil('J') objekt\n",
    "opel = toyota #jaguar referer til Opel\n",
    "toyota = None #opel referer enda til Bil('T')\n",
    "elbil = opel# Bil('T')\n",
    "\n",
    "# 2, Opel og toyota er igjen. opel = Toyota og jaguar = Opel"
   ]
  },
  {
   "cell_type": "code",
   "execution_count": null,
   "metadata": {},
   "outputs": [],
   "source": [
    "#1n\n",
    "#Uttrykk = at noe evaluerer til en verdi/string/bool\n",
    "    #String = en liste med chars\n",
    "    #Boolaen = en sann eller usann verdi\n",
    "\n",
    "navn = \"Jonas\" #Er en tilordning. -> Ikke et gyldig uttrykk\n",
    "str(len(['to','tre'])) #Evaulerer til en str\n",
    "while not ferdig: #Evaluerer ikke til noe, bare gjøres så lenge ferdig er falsk. -> Ikke et gyldig uttrykk\n",
    "False # Evaluerer til boolean\n",
    "input('Navn')#Evaluerer til string\n",
    "\n",
    "\n"
   ]
  },
  {
   "cell_type": "code",
   "execution_count": 12,
   "metadata": {},
   "outputs": [],
   "source": [
    "def fridager(dag):\n",
    "    #Dersom julaften er på en fredag vil vi miste 2 fridager\n",
    "    if dag == 'fredag':\n",
    "        return 2\n",
    "    #Dersom julaften er på en lørdag mister vi 1 fridag\n",
    "    elif dag == 'lordag' or dag == 'torsdag':\n",
    "        return 3\n",
    "    else:\n",
    "        return 4\n",
    "\n",
    "assert fridager('sondag') == 4\n",
    "assert fridager('fredag') == 2\n",
    "assert fridager('torsdag') == 3"
   ]
  },
  {
   "cell_type": "code",
   "execution_count": 13,
   "metadata": {},
   "outputs": [
    {
     "data": {
      "text/plain": [
       "'petter'"
      ]
     },
     "execution_count": 13,
     "metadata": {},
     "output_type": "execute_result"
    }
   ],
   "source": [
    "#16\n",
    "def beOmNavn(navneliste):\n",
    "    navn = input('navn')\n",
    "\n",
    "    while navn not in navneliste:\n",
    "        navn = input('navn')\n",
    "\n",
    "    return navn\n",
    "\n",
    "\n",
    "navneliste = ['per','pål','espen']\n",
    "\n",
    "beOmNavn(navneliste)"
   ]
  }
 ],
 "metadata": {
  "interpreter": {
   "hash": "916dbcbb3f70747c44a77c7bcd40155683ae19c65e1c03b4aa3499c5328201f1"
  },
  "kernelspec": {
   "display_name": "Python 3.8.10 64-bit",
   "language": "python",
   "name": "python3"
  },
  "language_info": {
   "codemirror_mode": {
    "name": "ipython",
    "version": 3
   },
   "file_extension": ".py",
   "mimetype": "text/x-python",
   "name": "python",
   "nbconvert_exporter": "python",
   "pygments_lexer": "ipython3",
   "version": "3.8.10"
  },
  "orig_nbformat": 4
 },
 "nbformat": 4,
 "nbformat_minor": 2
}
